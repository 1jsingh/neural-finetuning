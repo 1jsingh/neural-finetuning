{
 "cells": [
  {
   "cell_type": "markdown",
   "metadata": {},
   "source": [
    "## Basic modules"
   ]
  },
  {
   "cell_type": "code",
   "execution_count": 1,
   "metadata": {},
   "outputs": [],
   "source": [
    "import numpy as np\n",
    "import os\n",
    "import scipy\n",
    "\n",
    "# misc utility functions\n",
    "import utils.misc as misc\n",
    "\n",
    "# load model definitions\n",
    "from utils.loader import ModelLoader\n",
    "\n",
    "# sklearn\n",
    "from sklearn.svm import LinearSVC\n",
    "\n",
    "# ignore convergence warnings from sklearn\n",
    "import warnings\n",
    "import sklearn.exceptions\n",
    "warnings.filterwarnings(\"ignore\", category=sklearn.exceptions.ConvergenceWarning)\n",
    "\n",
    "# pytorch\n",
    "import torch\n",
    "import torch.nn as nn\n",
    "import torch.nn.functional as F\n",
    "import torch.optim as optim\n",
    "import torchvision\n",
    "from torchvision import datasets, models, transforms\n",
    "\n",
    "# pandas\n",
    "import pandas as pd\n",
    "\n",
    "# matplotlib\n",
    "import matplotlib.pyplot as plt\n",
    "%matplotlib inline\n",
    "%config InlineBackend.figure_format = 'retina'\n",
    "\n",
    "# seaborn\n",
    "import seaborn as sns\n",
    "sns.set()\n",
    "\n",
    "# pickle\n",
    "import pickle\n",
    "\n",
    "# cv2\n",
    "import cv2\n",
    "from PIL import Image\n",
    "\n",
    "# Some more magic so that the notebook will reload external python modules;\n",
    "# see http://stackoverflow.com/questions/1907993/autoreload-of-modules-in-ipython\n",
    "%load_ext autoreload\n",
    "%autoreload 2"
   ]
  },
  {
   "cell_type": "markdown",
   "metadata": {},
   "source": [
    "## Reading data\n",
    "\n",
    "The neural-activation (*in pickle format*) data consists of an organized dictionary with the following entries:\n",
    "\n",
    "* `images_paths`: numpy array containing paths to all the 1960 images\n",
    "* `image_ctg`: numpy array containing class labels from 0 -> 6\n",
    "* `image_splits` : 1960 x 10 numpy array containing 10 80:20 train:val splits used in the paper. Though I generate my own validation splits for computing the sit scores\n",
    "* `features`: 168 dimensional(for multi-unit) neural_features for all the images i.e 1960 x 168 numpy array\n",
    "* `categ_name_map`: dictionary mapping from numeric class label to class name e.g. face, animal etc.\n",
    "\n",
    "The dataset consists of images belonging to 7 classes and 49 object types. The image paths are arranged in an order such that the images belonging to a particular object type are together. There are 40 images per object in the dataset, so images [1 - 40] belong to object 1, images [41 - 80] belong to object 2 and so on."
   ]
  },
  {
   "cell_type": "code",
   "execution_count": 2,
   "metadata": {},
   "outputs": [],
   "source": [
    "data_path = 'data/PLoSCB2014_data_20141216'\n",
    "with open('data/PLoSCB2014_data_20141216/NeuralData_IT_multiunits.pkl','rb') as f:\n",
    "    data = pickle.load(f)"
   ]
  },
  {
   "cell_type": "code",
   "execution_count": 3,
   "metadata": {},
   "outputs": [],
   "source": [
    "# Detect if we have a GPU available\n",
    "device = torch.device(\"cuda:0\" if torch.cuda.is_available() else \"cpu\")"
   ]
  },
  {
   "cell_type": "markdown",
   "metadata": {},
   "source": [
    "## Preparing Input Images\n",
    "\n",
    "For feeding the cadieu dataset images to the pretrained CNNs, we need to preprocess the images with appropriate reshaping, normalization and other data augmentation steps. In addition, we also need to convert the images to tensors, in order to use pytorch."
   ]
  },
  {
   "cell_type": "code",
   "execution_count": 4,
   "metadata": {},
   "outputs": [
    {
     "name": "stdout",
     "output_type": "stream",
     "text": [
      "read 1960 images ... preprocessed input shape: torch.Size([1960, 3, 224, 224])\n"
     ]
    }
   ],
   "source": [
    "# read cadieu dataset images\n",
    "X = misc.read_images(data['image_paths'],data_path=data_path)\n",
    "\n",
    "print (\"read {} images ... preprocessed input shape: {}\".format(X.shape[0],X.shape))"
   ]
  },
  {
   "cell_type": "markdown",
   "metadata": {},
   "source": [
    "## Read neural features"
   ]
  },
  {
   "cell_type": "code",
   "execution_count": 5,
   "metadata": {},
   "outputs": [
    {
     "name": "stdout",
     "output_type": "stream",
     "text": [
      "read neural features for 1960 images with shape: (1960, 168)\n"
     ]
    }
   ],
   "source": [
    "neural_features = data['features']\n",
    "print (\"read neural features for {} images with shape: {}\".format(neural_features.shape[0],neural_features.shape))"
   ]
  },
  {
   "cell_type": "markdown",
   "metadata": {},
   "source": [
    "## Datagenerator"
   ]
  },
  {
   "cell_type": "code",
   "execution_count": 6,
   "metadata": {},
   "outputs": [],
   "source": [
    "class Datagenerator:\n",
    "    def __init__(self,imgs,neural_features,val_ratio=0.2):\n",
    "        \n",
    "        # get train/val split using val_ratio\n",
    "        self.train_mask,self.val_mask = misc.get_train_val_split_indices(total_num_imgs=imgs.shape[0],val_ratio=val_ratio)\n",
    "        \n",
    "        # get training and validation data\n",
    "        self.imgs_train,self.neural_feat_train = imgs[self.train_mask],neural_features[self.train_mask]\n",
    "        self.imgs_val,self.neural_feat_val = imgs[self.val_mask],neural_features[self.val_mask]\n",
    "        \n",
    "        # number of objects\n",
    "        self.num_obj=49\n",
    "    \n",
    "    def get_next(self,batch_size=49*2,mode='train'):\n",
    "        \n",
    "        # check if batch size is multiple of self.num_obj\n",
    "        assert batch_size%self.num_obj == 0\n",
    "        \n",
    "        if mode == 'train':\n",
    "            img_split,neural_feat_split = self.imgs_train,self.neural_feat_train\n",
    "        else:\n",
    "            img_split,neural_feat_split = self.imgs_val,self.neural_feat_val\n",
    "        \n",
    "        # compute batch_size ratio\n",
    "        batch_size_ratio = batch_size/img_split.shape[0]\n",
    "        \n",
    "        # sample batch indices\n",
    "        _,batch_mask = misc.get_train_val_split_indices(total_num_imgs=img_split.shape[0],val_ratio=batch_size_ratio)\n",
    "            \n",
    "        # get batch imgs and neural features\n",
    "        img_batch,neural_feat_batch = img_split[batch_mask],neural_feat_split[batch_mask]\n",
    "        \n",
    "        return img_batch,neural_feat_batch"
   ]
  },
  {
   "cell_type": "markdown",
   "metadata": {},
   "source": [
    "## Finetune the pretrained model using RDM loss function"
   ]
  },
  {
   "cell_type": "code",
   "execution_count": 7,
   "metadata": {},
   "outputs": [],
   "source": [
    "class Agent:\n",
    "    def __init__(self,model_name,rdm_gt_feat,device,learning_rate):\n",
    "        # model loader instance \n",
    "        model_loader = ModelLoader()\n",
    "        \n",
    "        # define model and transfer to device\n",
    "        self.model = model_loader.load(model_name).to(device)\n",
    "        \n",
    "        # define optimizer\n",
    "        self.opt = optim.Adam(self.model.parameters(),lr=learning_rate)\n",
    "        \n",
    "        # define datagenerator for sampling batches\n",
    "        self.datagen = Datagenerator(X,rdm_gt_feat,val_ratio=0.2)\n",
    "        \n",
    "\n",
    "    def train(self,batch_size=49*8,max_train_steps=1000,print_every=10,verbose=True):\n",
    "        # set model to train mode\n",
    "        self.model.train()\n",
    "            \n",
    "        for train_step in range(max_train_steps):\n",
    "\n",
    "            # sample training batch\n",
    "            img_batch,neural_feat_batch = self.datagen.get_next(batch_size=batch_size)\n",
    "            img_batch = img_batch.to(device)\n",
    "            \n",
    "            # compute rdm from neural features\n",
    "            neural_rdm = misc.get_rdm(neural_feat_batch)\n",
    "            neural_rdm = torch.from_numpy(neural_rdm).float().to(device)\n",
    "\n",
    "            # get model_features and compute model rdm\n",
    "            model_features = self.model(img_batch).squeeze()\n",
    "            model_rdm = misc.get_rdm_tensor(model_features)\n",
    "\n",
    "            # define rdm loss\n",
    "            loss = torch.mean((model_rdm-neural_rdm)**2)\n",
    "\n",
    "            # perform optimization step\n",
    "            self.opt.zero_grad()\n",
    "            loss.backward()\n",
    "            self.opt.step()\n",
    "            \n",
    "            # print progress after every 'print_every' steps\n",
    "            if train_step%print_every == 0 and verbose:\n",
    "                \n",
    "                # set model to eval mode\n",
    "                self.model.eval()\n",
    "                \n",
    "                # compute sit for training batch\n",
    "                train_model_features = misc.extract_features(img_batch.detach().cpu(),self.model,batch_size=4)\n",
    "                train_sit_mean,train_sit_std = misc.sit_score(train_model_features,neural_feat_batch,\n",
    "                                                                    num_val_splits=1,val_ratio=1)\n",
    "                \n",
    "                # compute sit for validation dataset\n",
    "                val_model_features = misc.extract_features(self.datagen.imgs_val,self.model)\n",
    "                val_sit_mean,val_sit_std = misc.sit_score(val_model_features,self.datagen.neural_feat_val,\n",
    "                                                                     num_val_splits=1,val_ratio=1)\n",
    "                \n",
    "                # compute linear svm accuracy for validation dataset\n",
    "                model_features = misc.extract_features(agent.datagen.imgs_val,agent.model) \n",
    "                acc_mean,acc_std = misc.linear_svm_score_v2(model_features,data['image_ctg'][agent.datagen.val_mask],\n",
    "                                                    num_val_splits=20,num_subsampled_feat=-1)\n",
    "                \n",
    "                # set model to train mode\n",
    "                self.model.train()\n",
    "                \n",
    "                # print evaluation metric values\n",
    "                print (\"Step: {}\\t loss: {:.3f}\\t train_sit: {:.4f} \\t val_sit: {:.4f} \\t lsvm_acc: {:.4f}\".format(train_step,\n",
    "                                                                loss.item(),train_sit_mean,val_sit_mean,acc_mean))"
   ]
  },
  {
   "cell_type": "code",
   "execution_count": null,
   "metadata": {},
   "outputs": [
    {
     "name": "stdout",
     "output_type": "stream",
     "text": [
      "base model: squeezenet_v0\t rdm model: alexnet\t acc gain: -0.0088\n",
      "base model: squeezenet_v0\t rdm model: vgg11\t acc gain: 0.0769\n",
      "base model: squeezenet_v0\t rdm model: vgg13\t acc gain: 0.0433\n",
      "base model: squeezenet_v0\t rdm model: vgg16\t acc gain: 0.0657\n",
      "base model: squeezenet_v0\t rdm model: vgg19\t acc gain: 0.0633\n",
      "base model: squeezenet_v0\t rdm model: vgg11_bn\t acc gain: 0.0455\n",
      "base model: squeezenet_v0\t rdm model: vgg13_bn\t acc gain: 0.0596\n",
      "base model: squeezenet_v0\t rdm model: vgg16_bn\t acc gain: 0.0692\n",
      "base model: squeezenet_v0\t rdm model: vgg19_bn\t acc gain: 0.0986\n",
      "base model: squeezenet_v0\t rdm model: resnet18\t acc gain: 0.0749\n",
      "base model: squeezenet_v0\t rdm model: resnet34\t acc gain: 0.0382\n",
      "base model: squeezenet_v0\t rdm model: resnet50\t acc gain: 0.0576\n",
      "base model: squeezenet_v0\t rdm model: resnet101\t acc gain: 0.0214\n",
      "base model: squeezenet_v0\t rdm model: resnet152\t acc gain: 0.0498\n",
      "base model: squeezenet_v0\t rdm model: squeezenet_v1\t acc gain: 0.0147\n"
     ]
    }
   ],
   "source": [
    "acc_diff = {}\n",
    "\n",
    "model_name = 'squeezenet_v0'\n",
    "\n",
    "model_loader = ModelLoader()\n",
    "# dir storing model features\n",
    "model_feat_path = 'models/model_features/'\n",
    "\n",
    "for rdm_gt_model_name in list(model_loader.get_model_byname.keys()):\n",
    "    if rdm_gt_model_name != model_name:\n",
    "        with open(model_feat_path+rdm_gt_model_name+'_feat.pkl','rb') as f:\n",
    "            rdm_gt_feat = pickle.load(f)\n",
    "            \n",
    "        # create agent instance\n",
    "        agent = Agent(model_name=model_name,rdm_gt_feat=rdm_gt_feat,device=device,learning_rate=1e-6)\n",
    "        \n",
    "        # model features for validation images\n",
    "        model_features = misc.extract_features(agent.datagen.imgs_val,agent.model)\n",
    "\n",
    "        # get linear svm accuracy for validation model features \n",
    "        pre_train_acc,_ = misc.linear_svm_score_v2(model_features,data['image_ctg'][agent.datagen.val_mask],\n",
    "                                                num_val_splits=100,num_subsampled_feat=-1)\n",
    "        \n",
    "        # train the agent\n",
    "        agent.train(batch_size=49*4,max_train_steps=1000,print_every=100,verbose=False)\n",
    "        \n",
    "        # model features for validation images\n",
    "        model_features = misc.extract_features(agent.datagen.imgs_val,agent.model)\n",
    "\n",
    "        # get linear svm accuracy for validation model features \n",
    "        post_train_acc,_ = misc.linear_svm_score_v2(model_features,data['image_ctg'][agent.datagen.val_mask],\n",
    "                                                num_val_splits=100,num_subsampled_feat=-1)\n",
    "        \n",
    "        acc_diff[rdm_gt_model_name] = post_train_acc - pre_train_acc\n",
    "        print ('base model: {}\\t rdm model: {}\\t acc gain: {:.4f}'.format(model_name,rdm_gt_model_name,\n",
    "                                                                          post_train_acc - pre_train_acc))"
   ]
  },
  {
   "cell_type": "code",
   "execution_count": null,
   "metadata": {},
   "outputs": [],
   "source": []
  }
 ],
 "metadata": {
  "kernelspec": {
   "display_name": "cv",
   "language": "python",
   "name": "cv"
  },
  "language_info": {
   "codemirror_mode": {
    "name": "ipython",
    "version": 3
   },
   "file_extension": ".py",
   "mimetype": "text/x-python",
   "name": "python",
   "nbconvert_exporter": "python",
   "pygments_lexer": "ipython3",
   "version": "3.7.1"
  }
 },
 "nbformat": 4,
 "nbformat_minor": 2
}
