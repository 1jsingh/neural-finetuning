{
 "cells": [
  {
   "cell_type": "code",
   "execution_count": 1,
   "metadata": {},
   "outputs": [],
   "source": [
    "import numpy as np\n",
    "import torch"
   ]
  },
  {
   "cell_type": "code",
   "execution_count": 88,
   "metadata": {},
   "outputs": [
    {
     "name": "stdout",
     "output_type": "stream",
     "text": [
      "[[ 1.         -0.01850662  0.28519936 -0.55503634  0.57330977]\n",
      " [-0.01850662  1.          0.17137994  0.1977558  -0.38519575]\n",
      " [ 0.28519936  0.17137994  1.         -0.09097159 -0.09541414]\n",
      " [-0.55503634  0.1977558  -0.09097159  1.         -0.68680584]\n",
      " [ 0.57330977 -0.38519575 -0.09541414 -0.68680584  1.        ]]\n"
     ]
    }
   ],
   "source": [
    "# X\n",
    "X = np.random.randint(low=0,high=5,size=(10,5),dtype='int')\n",
    "\n",
    "corr = np.corrcoef(X,rowvar=False)\n",
    "print (corr)"
   ]
  },
  {
   "cell_type": "code",
   "execution_count": 89,
   "metadata": {},
   "outputs": [],
   "source": [
    "X_ = X - np.mean(X,axis=0)\n",
    "\n",
    "covX = np.matmul(X_.T,X_)/X.shape[0]\n",
    "\n",
    "stdX = np.std(X,axis=0)[:,np.newaxis]\n",
    "\n",
    "std_matrix = np.matmul(stdX,stdX.T)\n",
    "\n",
    "corr2 = covX/std_matrix"
   ]
  },
  {
   "cell_type": "code",
   "execution_count": 90,
   "metadata": {},
   "outputs": [
    {
     "data": {
      "text/plain": [
       "array([[ 1.        , -0.01850662,  0.28519936, -0.55503634,  0.57330977],\n",
       "       [-0.01850662,  1.        ,  0.17137994,  0.1977558 , -0.38519575],\n",
       "       [ 0.28519936,  0.17137994,  1.        , -0.09097159, -0.09541414],\n",
       "       [-0.55503634,  0.1977558 , -0.09097159,  1.        , -0.68680584],\n",
       "       [ 0.57330977, -0.38519575, -0.09541414, -0.68680584,  1.        ]])"
      ]
     },
     "execution_count": 90,
     "metadata": {},
     "output_type": "execute_result"
    }
   ],
   "source": [
    "corr"
   ]
  },
  {
   "cell_type": "code",
   "execution_count": 91,
   "metadata": {},
   "outputs": [
    {
     "data": {
      "text/plain": [
       "array([[ 1.        , -0.01850662,  0.28519936, -0.55503634,  0.57330977],\n",
       "       [-0.01850662,  1.        ,  0.17137994,  0.1977558 , -0.38519575],\n",
       "       [ 0.28519936,  0.17137994,  1.        , -0.09097159, -0.09541414],\n",
       "       [-0.55503634,  0.1977558 , -0.09097159,  1.        , -0.68680584],\n",
       "       [ 0.57330977, -0.38519575, -0.09541414, -0.68680584,  1.        ]])"
      ]
     },
     "execution_count": 91,
     "metadata": {},
     "output_type": "execute_result"
    }
   ],
   "source": [
    "corr2"
   ]
  },
  {
   "cell_type": "code",
   "execution_count": 119,
   "metadata": {},
   "outputs": [],
   "source": [
    "def get_corr_matrix(X):\n",
    "    '''\n",
    "    Input:\n",
    "        X: num_obj,D tensor\n",
    "    \n",
    "    Output:\n",
    "        rdm: num_obj,num_obj tensor\n",
    "    '''\n",
    "    # make X zero mean\n",
    "    X_ = X - torch.mean(X,dim=0)\n",
    "    \n",
    "    # compute Covariance matrix\n",
    "    cov_matrix = torch.matmul(X_.transpose(0,1),X_)/X.shape[0]\n",
    "    \n",
    "    # get standard deviations for each of the dimensions\n",
    "    std_devs = torch.std(X,dim=0,unbiased=False).unsqueeze(dim=1)\n",
    "    \n",
    "    # get normalizing standard deviation product matrix\n",
    "    std_matrix = torch.matmul(std_devs,std_devs.transpose(0,1))\n",
    "    \n",
    "    # compute correlation matrix\n",
    "    corr_matrix = torch.div(cov_matrix,std_matrix)\n",
    "    \n",
    "    return corr_matrix"
   ]
  },
  {
   "cell_type": "code",
   "execution_count": 120,
   "metadata": {},
   "outputs": [
    {
     "name": "stdout",
     "output_type": "stream",
     "text": [
      "tensor([[ 2.2900, -0.0400,  0.6700, -1.1300,  1.2300],\n",
      "        [-0.0400,  2.0400,  0.3800,  0.3800, -0.7800],\n",
      "        [ 0.6700,  0.3800,  2.4100, -0.1900, -0.2100],\n",
      "        [-1.1300,  0.3800, -0.1900,  1.8100, -1.3100],\n",
      "        [ 1.2300, -0.7800, -0.2100, -1.3100,  2.0100]])\n",
      "tensor([[1.5133],\n",
      "        [1.4283],\n",
      "        [1.5524],\n",
      "        [1.3454],\n",
      "        [1.4177]])\n"
     ]
    },
    {
     "data": {
      "text/plain": [
       "tensor([[ 1.0000, -0.0185,  0.2852, -0.5550,  0.5733],\n",
       "        [-0.0185,  1.0000,  0.1714,  0.1978, -0.3852],\n",
       "        [ 0.2852,  0.1714,  1.0000, -0.0910, -0.0954],\n",
       "        [-0.5550,  0.1978, -0.0910,  1.0000, -0.6868],\n",
       "        [ 0.5733, -0.3852, -0.0954, -0.6868,  1.0000]])"
      ]
     },
     "execution_count": 120,
     "metadata": {},
     "output_type": "execute_result"
    }
   ],
   "source": [
    "a = get_corr_matrix(torch.from_numpy(X).float())\n",
    "a"
   ]
  },
  {
   "cell_type": "code",
   "execution_count": 7,
   "metadata": {},
   "outputs": [],
   "source": [
    "def get_train_val_split_indices(total_num_imgs=1960,val_ratio=0.2):\n",
    "    '''\n",
    "    Inputs:\n",
    "        total_num_imgs: number of images in the dataset\n",
    "        val_ratio: fraction of total images to be used in the validation set\n",
    "\n",
    "    Outputs:\n",
    "        train_mask: (total_num_imgs*(1-val_ratio),) numpy array, with indices for training data\n",
    "        val_mask: (total_num_imgs*val_ratio,) numpy array, with indices for validation data\n",
    "    '''\n",
    "    # number of objects\n",
    "    num_obj = 49\n",
    "    \n",
    "    # number of images per object\n",
    "    num_imgs_per_obj = int(total_num_imgs/num_obj)\n",
    "    \n",
    "    # number of validation images for each object according to val_ratio\n",
    "    num_val_imgs_per_obj = int(num_imgs_per_obj*val_ratio)\n",
    "    \n",
    "    # validation mask with indices for validation data\n",
    "    val_mask = []\n",
    "    \n",
    "    for obj_count in range(num_obj):\n",
    "        choose = np.random.choice(range(num_imgs_per_obj),num_val_imgs_per_obj,replace=False)\n",
    "        choose += num_imgs_per_obj*obj_count\n",
    "        val_mask.append(choose)\n",
    "    \n",
    "    # concatenate validation indices for each object\n",
    "    val_mask = np.concatenate(val_mask)\n",
    "    \n",
    "    # compute train mask\n",
    "    train_mask = np.array([x for x in range(total_num_imgs) if x not in val_mask])\n",
    "\n",
    "    return train_mask,val_mask"
   ]
  },
  {
   "cell_type": "code",
   "execution_count": 8,
   "metadata": {},
   "outputs": [],
   "source": [
    "train_mask,val_mask = get_train_val_split_indices()"
   ]
  },
  {
   "cell_type": "code",
   "execution_count": 9,
   "metadata": {},
   "outputs": [
    {
     "data": {
      "text/plain": [
       "(1568,)"
      ]
     },
     "execution_count": 9,
     "metadata": {},
     "output_type": "execute_result"
    }
   ],
   "source": [
    "train_mask.shape"
   ]
  },
  {
   "cell_type": "code",
   "execution_count": 10,
   "metadata": {},
   "outputs": [
    {
     "data": {
      "text/plain": [
       "(392,)"
      ]
     },
     "execution_count": 10,
     "metadata": {},
     "output_type": "execute_result"
    }
   ],
   "source": [
    "val_mask.shape"
   ]
  },
  {
   "cell_type": "code",
   "execution_count": 11,
   "metadata": {},
   "outputs": [
    {
     "data": {
      "text/plain": [
       "array([  37,   19,   11,   32,    6,   15,   12,   23,   79,   42,   44,\n",
       "         45,   54,   68,   71,   41,   84,   99,   83,   86,   82,  112,\n",
       "         89,  118,  131,  134,  158,  157,  126,  153,  150,  127,  164,\n",
       "        195,  166,  179,  191,  176,  182,  161,  212,  224,  235,  231,\n",
       "        208,  238,  218,  230,  243,  276,  271,  268,  242,  278,  253,\n",
       "        267,  318,  297,  301,  293,  292,  281,  304,  280,  322,  356,\n",
       "        338,  357,  342,  333,  323,  337,  382,  387,  380,  391,  383,\n",
       "        376,  381,  366,  404,  406,  402,  410,  425,  417,  437,  421,\n",
       "        448,  440,  451,  441,  453,  477,  443,  446,  513,  517,  518,\n",
       "        500,  491,  486,  509,  501,  532,  522,  538,  526,  545,  543,\n",
       "        556,  555,  569,  567,  594,  595,  585,  560,  565,  566,  639,\n",
       "        601,  619,  630,  608,  602,  620,  626,  640,  658,  656,  675,\n",
       "        662,  668,  665,  678,  704,  698,  709,  693,  711,  688,  707,\n",
       "        692,  757,  733,  724,  748,  727,  750,  740,  728,  781,  769,\n",
       "        773,  771,  797,  798,  788,  762,  836,  812,  827,  813,  804,\n",
       "        824,  816,  808,  868,  872,  858,  852,  848,  877,  869,  873,\n",
       "        894,  898,  891,  880,  900,  903,  909,  883,  930,  929,  938,\n",
       "        920,  932,  925,  952,  944,  995,  970,  961,  978,  980,  962,\n",
       "        969,  988, 1022, 1024, 1020, 1002, 1003, 1015, 1005, 1033, 1076,\n",
       "       1045, 1068, 1057, 1048, 1078, 1040, 1052, 1101, 1092, 1089, 1094,\n",
       "       1100, 1106, 1086, 1095, 1123, 1158, 1130, 1146, 1155, 1133, 1128,\n",
       "       1148, 1183, 1162, 1180, 1161, 1190, 1185, 1192, 1199, 1213, 1200,\n",
       "       1226, 1203, 1210, 1215, 1202, 1232, 1265, 1272, 1277, 1260, 1244,\n",
       "       1252, 1242, 1273, 1288, 1318, 1281, 1302, 1306, 1292, 1294, 1309,\n",
       "       1322, 1323, 1333, 1326, 1357, 1343, 1334, 1341, 1397, 1381, 1385,\n",
       "       1395, 1369, 1364, 1376, 1392, 1418, 1422, 1411, 1439, 1416, 1408,\n",
       "       1426, 1427, 1476, 1457, 1455, 1477, 1479, 1468, 1445, 1458, 1516,\n",
       "       1502, 1507, 1493, 1508, 1517, 1498, 1505, 1528, 1520, 1542, 1546,\n",
       "       1556, 1537, 1522, 1533, 1564, 1568, 1572, 1585, 1571, 1562, 1598,\n",
       "       1583, 1632, 1621, 1637, 1607, 1616, 1609, 1636, 1604, 1668, 1660,\n",
       "       1656, 1646, 1678, 1644, 1659, 1664, 1711, 1695, 1704, 1686, 1698,\n",
       "       1681, 1717, 1694, 1731, 1746, 1724, 1723, 1737, 1751, 1754, 1740,\n",
       "       1762, 1774, 1794, 1760, 1784, 1778, 1781, 1790, 1826, 1829, 1815,\n",
       "       1839, 1808, 1818, 1811, 1802, 1851, 1841, 1870, 1858, 1842, 1852,\n",
       "       1860, 1874, 1891, 1902, 1899, 1888, 1906, 1883, 1913, 1914, 1942,\n",
       "       1935, 1930, 1943, 1949, 1921, 1925, 1957])"
      ]
     },
     "execution_count": 11,
     "metadata": {},
     "output_type": "execute_result"
    }
   ],
   "source": [
    "val_mask"
   ]
  },
  {
   "cell_type": "code",
   "execution_count": 12,
   "metadata": {},
   "outputs": [
    {
     "data": {
      "text/plain": [
       "array([   0,    1,    2, ..., 1956, 1958, 1959])"
      ]
     },
     "execution_count": 12,
     "metadata": {},
     "output_type": "execute_result"
    }
   ],
   "source": [
    "train_mask"
   ]
  },
  {
   "cell_type": "code",
   "execution_count": 16,
   "metadata": {},
   "outputs": [
    {
     "data": {
      "text/plain": [
       "array([4, 0, 3, 1, 2])"
      ]
     },
     "execution_count": 16,
     "metadata": {},
     "output_type": "execute_result"
    }
   ],
   "source": [
    "a = np.arange(5)\n",
    "np.random.shuffle(a)\n",
    "a"
   ]
  },
  {
   "cell_type": "code",
   "execution_count": null,
   "metadata": {},
   "outputs": [],
   "source": []
  }
 ],
 "metadata": {
  "kernelspec": {
   "display_name": "cv3",
   "language": "python",
   "name": "cv3"
  },
  "language_info": {
   "codemirror_mode": {
    "name": "ipython",
    "version": 3
   },
   "file_extension": ".py",
   "mimetype": "text/x-python",
   "name": "python",
   "nbconvert_exporter": "python",
   "pygments_lexer": "ipython3",
   "version": "3.6.7"
  }
 },
 "nbformat": 4,
 "nbformat_minor": 2
}
